{
 "cells": [
  {
   "attachments": {
    "image-2.png": {
     "image/png": "[encoded data removed]"
    }
   },
   "cell_type": "markdown",
   "metadata": {},
   "source": [
    "![image.png](attachment:image-2.png)"
   ]
  },
  {
   "attachments": {},
   "cell_type": "markdown",
   "metadata": {},
   "source": [
    "# __Examen de practica (Sup04)__  \n",
    "### __Soy Henry__"
   ]
  },
  {
   "attachments": {},
   "cell_type": "markdown",
   "metadata": {},
   "source": [
    "## 1) __Pandas__"
   ]
  },
  {
   "attachments": {},
   "cell_type": "markdown",
   "metadata": {},
   "source": [
    "Los ficheros [emisiones-2016.csv](https://aprendeconalf.es/docencia/python/ejercicios/soluciones/pandas/emisiones-2017.csv), [emisiones-2017.csv](https://aprendeconalf.es/docencia/python/ejercicios/soluciones/pandas/emisiones-2017.csv), [emisiones-2018.csv](https://aprendeconalf.es/docencia/python/ejercicios/soluciones/pandas/emisiones-2018.csv) y [emisiones-2019.csv](https://aprendeconalf.es/docencia/python/ejercicios/soluciones/pandas/emisiones-2019.csv), contienen datos sobre las emisiones contaminates en la ciudad de Madrid en los años 2016, 2017, 2018 y 2019 respectivamente. Escribir un programa con los siguientes requisitos:\n",
    "\n",
    ".Generar un DataFrame con los datos de los cuatro ficheros.  \n",
    "\n",
    ".Filtrar las columnas del DataFrame para quedarse con las columnas ESTACION, MAGNITUD, AÑO, MES y las correspondientes a los días D01, D02, etc.  \n",
    "\n",
    ".Reestructurar el DataFrame para que los valores de los contaminantes de las columnas de los días aparezcan en una única columna.  \n",
    "\n",
    ".Añadir una columna con la fecha a partir de la concatenación del año, el mes y el día (usar el módulo datetime).  \n",
    "\n",
    ".Eliminar las filas con fechas no válidas (utilizar la función isnat del módulo numpy) y ordenar el DataFrame por estaciones contaminantes y fecha.  \n",
    "\n",
    ".Mostrar por pantalla las estaciones y los contaminantes disponibles en el DataFrame.  \n",
    "\n",
    ".Crear una función que reciba una estación, un contaminante y un rango de fechas y devuelva una serie con las emisiones del contaminante dado en la estación y rango de fechas dado.  \n",
    "\n",
    ".Mostrar un resumen descriptivo (mínimo, máximo, media, etc.) para cada contaminante.  \n",
    "\n",
    ".Mostrar un resumen descriptivo para cada contaminante por distritos.  \n",
    "\n",
    ".Crear una función que reciba una estación y un contaminante y devuelva un resumen descriptivo de las emisiones del contaminante indicado en la estación indicada.  \n",
    "\n",
    ".Crear una función que devuelva las emisiones medias mensuales de un contaminante y un año dados para todos las estaciones.  \n",
    "\n",
    ".Crear un función que reciba una estación de medición y devuelva un DataFrame con las medias mensuales de los distintos tipos de contaminantes."
   ]
  },
  {
   "cell_type": "code",
   "execution_count": 1,
   "metadata": {},
   "outputs": [
    {
     "name": "stdout",
     "output_type": "stream",
     "text": [
      "HOLA MUNDO\n"
     ]
    }
   ],
   "source": [
    "#Iniciar ejercicio 1:\n",
    "print('HOLA MUNDO')"
   ]
  },
  {
   "attachments": {},
   "cell_type": "markdown",
   "metadata": {},
   "source": [
    "# 2) __Numpy__"
   ]
  },
  {
   "attachments": {},
   "cell_type": "markdown",
   "metadata": {},
   "source": [
    " .Crear una matriz y una funcion que de parametro puedas ingresar una matriz(usando la matriz que creaste) y te devuelva su traspuesta\n",
    " .crear un programa que almacene matrices \n",
    " .Crea 2 matrices y multiplicas imprimiendo el resultado\n",
    " .Crear una matriz de 6x6 de ceros"
   ]
  },
  {
   "cell_type": "code",
   "execution_count": null,
   "metadata": {},
   "outputs": [],
   "source": [
    "#iniciar ejercicio 2:"
   ]
  },
  {
   "attachments": {},
   "cell_type": "markdown",
   "metadata": {},
   "source": [
    "# __Por ultimo de consejos:__"
   ]
  },
  {
   "attachments": {},
   "cell_type": "markdown",
   "metadata": {},
   "source": [
    "__.Repasen la parte matematica, en especial los temas de matrices__  \n",
    "__.Analicen bien los csv a utilizar__  \n",
    "\n",
    "__Y.. cof cof.. listas y como recorrerlas__\n",
    "\n",
    "##### __Con confianza ustedes pueden!!__"
   ]
  }
 ],
 "metadata": {
  "kernelspec": {
   "display_name": "Python 3.11.1 64-bit",
   "language": "python",
   "name": "python3"
  },
  "language_info": {
   "codemirror_mode": {
    "name": "ipython",
    "version": 3
   },
   "file_extension": ".py",
   "mimetype": "text/x-python",
   "name": "python",
   "nbconvert_exporter": "python",
   "pygments_lexer": "ipython3",
   "version": "3.11.1"
  },
  "orig_nbformat": 4,
  "vscode": {
   "interpreter": {
    "hash": "b58d8afad29769750a1e2256a8ad1358e335723359754ebc5cc416c5c1bf1079"
   }
  }
 },
 "nbformat": 4,
 "nbformat_minor": 2
}
